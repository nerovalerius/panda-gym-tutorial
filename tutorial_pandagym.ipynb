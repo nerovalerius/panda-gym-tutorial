{
 "cells": [
  {
   "attachments": {},
   "cell_type": "markdown",
   "metadata": {},
   "source": [
    "## Applied Reinforcement Learning - Tutorial - Panda-Gym\n",
    "### [Armin Niedermueller](https://github.com/nerovalerius)\n",
    "### Salzburg University of applied Sciences"
   ]
  },
  {
   "attachments": {},
   "cell_type": "markdown",
   "metadata": {},
   "source": [
    "### Covered Topics\n",
    "\n",
    "* Franka Panda Robot\n",
    "* Panda-Gym Introduction\n",
    "    * Setup\n",
    "    * Environment, Observation Space, Action Space, Reward Function, Termination Condition\n",
    "    * Training\n",
    "    * Evaluation\n",
    "    * Visualization\n",
    "* Panda-Gym Examples\n",
    "    * Task 1: Panda Reach\n",
    "    * Task 2: Panda Pick and Place\n",
    "    * Task 3: Panda Stack\n",
    "* Create a custom robot\n",
    "* Custom a custom environment\n",
    "* Create a custom task\n",
    "    * Avoid Obstacles while reaching a target\n",
    "    * Stack three instead of two blocks"
   ]
  },
  {
   "cell_type": "markdown",
   "metadata": {},
   "source": []
  }
 ],
 "metadata": {
  "kernelspec": {
   "display_name": "base",
   "language": "python",
   "name": "python3"
  },
  "language_info": {
   "name": "python",
   "version": "3.9.13 (main, Aug 25 2022, 23:51:50) [MSC v.1916 64 bit (AMD64)]"
  },
  "orig_nbformat": 4,
  "vscode": {
   "interpreter": {
    "hash": "b0c5f67b466fc5386e183f274ffb84e1509e89581f809d6c238ca5386dca0c23"
   }
  }
 },
 "nbformat": 4,
 "nbformat_minor": 2
}
