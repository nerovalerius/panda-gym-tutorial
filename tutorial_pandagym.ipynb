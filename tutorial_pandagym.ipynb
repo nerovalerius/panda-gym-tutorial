{
 "cells": [
  {
   "attachments": {},
   "cell_type": "markdown",
   "metadata": {},
   "source": [
    "## Applied Reinforcement Learning - Tutorial - Panda-Gym\n",
    "### [Armin Niedermueller](https://github.com/nerovalerius)\n",
    "### Salzburg University of applied Sciences"
   ]
  },
  {
   "attachments": {},
   "cell_type": "markdown",
   "metadata": {},
   "source": [
    "### Covered Topics\n",
    "* Panda-Gym Introduction\n",
    "    * Franka Panda Robot\n",
    "    * Setup\n",
    "* Panda-Gym Theory\n",
    "    * Panda-Gym Environments\n",
    "    * Panda-Gym Task\n",
    "    * Panda-Gym Robot\n",
    "    * Panda-Gym States\n",
    "    * Panda-Gym Action-Space\n",
    "    * Panda-Gym Reward\n",
    "* Panda-Gym Examples\n",
    "    * Task 1: Panda Reach\n",
    "    * Task 2: Panda Pick and Place\n",
    "    * Task 3: Panda Stack\n",
    "* Create a custom robot\n",
    "* Custom a custom environment\n",
    "* Create a custom task\n",
    "    * Avoid Obstacles while reaching a target\n",
    "    * Stack 3 instead of 2 blocks"
   ]
  },
  {
   "attachments": {},
   "cell_type": "markdown",
   "metadata": {},
   "source": [
    "### Panda-Gym Introduction\n",
    "Panda-Gym is a reinforcement learning environment for the Franka Emika Panda robot. It is based on the OpenAI Gym framework and provides a set of tasks that can be used to train reinforcement learning agents. The tasks are based on the PyBullet physics engine and can be used to train agents for real-world applications. The environment is designed to be easy to use and extend. It is also possible to create custom robots, environments and tasks.\n",
    "A detailed documentation can be found [here](https://panda-gym.readthedocs.io/en/latest/) and their paper can be cited as folows:\n",
    "```\n",
    "@article{gallouedec2021pandagym,\n",
    "  title        = {{panda-gym: Open-Source Goal-Conditioned Environments for Robotic Learning}},\n",
    "  author       = {Gallou{\\'e}dec, Quentin and Cazin, Nicolas and Dellandr{\\'e}a, Emmanuel and Chen, Liming},\n",
    "  year         = 2021,\n",
    "  journal      = {4th Robot Learning Workshop: Self-Supervised and Lifelong Learning at NeurIPS},\n",
    "}\n",
    "```\n",
    "\n",
    "#### Franka Panda Robot\n",
    "Panda is a collaborative robot with 7 degrees of freedom developed by [FRANKA EMIKA](https://www.franka.de/).\n",
    "It can be programmed directly with a graphical user interface or with the Robot Operating System 1 & 2 (C++, MoveIt!, Rviz and so on).\n",
    "The torque sensors on it's 7 seven axes make this robot arm so sensitive, that it even stops at a balloon.\n",
    "It works at a very high precision as well as stability, which makes it a perfect tool for research and development.\n",
    "\n",
    "<img src=\"images/franka_panda.png\"  width=\"35%\"> \\\n",
    "Image source: [LINK](https://github.com/nerovalerius/collision_avoidance/blob/master/BAC2_niedermueller.pdf)\n",
    "\n",
    "I worked with the Panda robot for my bachelor thesis, where i used two 3D stereo cameras to enable collision avoidance for the robot arm. The robot was able to avoid obstacles while reaching a target. The code and results can be found [here](https://github.com/nerovalerius/collision_avoidance) and [here](https://www.youtube.com/watch?v=LQPS--bnvQY)"
   ]
  },
  {
   "attachments": {},
   "cell_type": "markdown",
   "metadata": {},
   "source": [
    "#### Setup\n",
    "Before we are able to start programming, we need to prepare our programming environment.\n",
    "First of all, we create a virtual environment for our undertaking, in order to avoid conflicts with other projects.\n",
    "We use the conda package manager to create a virtual environment. If you are not familiar with conda, you can find a tutorial [here](https://docs.conda.io/projects/conda/en/latest/user-guide/tasks/manage-environments.html).\n",
    "\n",
    "First, download and install miniconda.\n",
    "```\n",
    "wget https://repo.continuum.io/miniconda/Miniconda3-latest-Linux-x86_64.sh \\\n",
    "    && bash Miniconda3-latest-Linux-x86_64.sh -b \\\n",
    "    && rm Miniconda3-latest-Linux-x86_64.sh\n",
    "```\n",
    "Follow the instructions on the terminal and also initialize conda for your current shell.\n",
    "```\n",
    "conda init bash\n",
    "```\n",
    "Now, create a new environment and activate it.\n",
    "```\n",
    "conda create -n panda-gym-tutorial python=3.9\n",
    "```\n",
    "For panda-gym, there is currently no conda package available. Therefore, we need to install it with pip.\n",
    "Furthermore, we can install numpngw to store the rendered images as animated png files."
   ]
  },
  {
   "cell_type": "code",
   "execution_count": null,
   "metadata": {},
   "outputs": [],
   "source": [
    "%pip install panda-gym\n",
    "%pip3 install numpngw"
   ]
  },
  {
   "attachments": {},
   "cell_type": "markdown",
   "metadata": {},
   "source": [
    "### Panda-Gym Examples\n",
    "In this section, we will take a look at three tasks that are already implemented in panda-gym.\n",
    "1. **Panda Reach:** The robot has to reach a target position.\n",
    "2. **Panda Pick and Place:** The robot has to pick up an object and place it on a target position.\n",
    "3. **Panda Stack:** The robot has to stack two blocks on top of each other."
   ]
  },
  {
   "attachments": {},
   "cell_type": "markdown",
   "metadata": {},
   "source": [
    "#### Task 1: Panda Reach\n",
    "<img src=\"images/reach.png\"  width=\"35%\"> \\"
   ]
  },
  {
   "cell_type": "code",
   "execution_count": 1,
   "metadata": {},
   "outputs": [
    {
     "name": "stderr",
     "output_type": "stream",
     "text": [
      "100%|██████████| 1000/1000 [00:13<00:00, 72.01it/s]\n"
     ]
    },
    {
     "name": "stdout",
     "output_type": "stream",
     "text": [
      "Saving animation...\n"
     ]
    }
   ],
   "source": [
    "###################################\n",
    "# Task 1: Panda Reach             #\n",
    "###################################\n",
    "\n",
    "import gymnasium as gym\n",
    "import panda_gym\n",
    "from tqdm import tqdm\n",
    "from numpngw import write_apng\n",
    "\n",
    "env = gym.make(\"PandaReach-v3\", render=True)\n",
    "env.metadata['render_fps'] = 24\n",
    "images = []\n",
    "observation, info = env.reset()\n",
    "max_steps = 1000\n",
    "\n",
    "for step in tqdm(range(max_steps)):\n",
    "    action = env.action_space.sample()\n",
    "    observation, reward, terminated, truncated, info = env.step(action)\n",
    "    images.append(env.render('rgb_array'))\n",
    "\n",
    "    if terminated or truncated:\n",
    "        observation, info = env.reset()\n",
    "\n",
    "env.close()\n",
    "\n",
    "print(\"Saving animation...\")\n",
    "write_apng('images/reach.png', images, delay = 10)"
   ]
  },
  {
   "attachments": {},
   "cell_type": "markdown",
   "metadata": {},
   "source": [
    "#### Task 2: Panda Pick and Place\n",
    "<img src=\"images/pickandplace.png\"  width=\"35%\"> \\"
   ]
  },
  {
   "cell_type": "code",
   "execution_count": 2,
   "metadata": {},
   "outputs": [
    {
     "name": "stderr",
     "output_type": "stream",
     "text": [
      "100%|██████████| 1000/1000 [00:13<00:00, 75.00it/s]\n"
     ]
    },
    {
     "name": "stdout",
     "output_type": "stream",
     "text": [
      "Saving animation...\n"
     ]
    }
   ],
   "source": [
    "###################################\n",
    "# Task 2: Panda Pick and Place    #\n",
    "###################################\n",
    "\n",
    "import gymnasium as gym\n",
    "import panda_gym\n",
    "from tqdm import tqdm\n",
    "from numpngw import write_apng\n",
    "\n",
    "env = gym.make(\"PandaPickAndPlace-v3\", render=True)\n",
    "env.metadata['render_fps'] = 24\n",
    "images = []\n",
    "observation, info = env.reset()\n",
    "max_steps = 1000\n",
    "\n",
    "for step in tqdm(range(max_steps)):\n",
    "    action = env.action_space.sample()\n",
    "    observation, reward, terminated, truncated, info = env.step(action)\n",
    "    images.append(env.render('rgb_array'))\n",
    "\n",
    "    if terminated or truncated:\n",
    "        observation, info = env.reset()\n",
    "\n",
    "env.close()\n",
    "\n",
    "print(\"Saving animation...\")\n",
    "write_apng('images/pickandplace.png', images, delay = 10)"
   ]
  },
  {
   "attachments": {},
   "cell_type": "markdown",
   "metadata": {},
   "source": [
    "#### Task 3: Panda Stack\n",
    "<img src=\"images/stack.png\"  width=\"35%\"> \\"
   ]
  },
  {
   "cell_type": "code",
   "execution_count": 3,
   "metadata": {},
   "outputs": [
    {
     "name": "stderr",
     "output_type": "stream",
     "text": [
      "100%|██████████| 1000/1000 [00:15<00:00, 64.85it/s]\n"
     ]
    },
    {
     "name": "stdout",
     "output_type": "stream",
     "text": [
      "Saving animation...\n"
     ]
    }
   ],
   "source": [
    "###################################\n",
    "# Task 3: Panda Stack             #\n",
    "###################################\n",
    "\n",
    "import gymnasium as gym\n",
    "import panda_gym\n",
    "from tqdm import tqdm\n",
    "from numpngw import write_apng\n",
    "\n",
    "env = gym.make(\"PandaStack-v3\", render=True)\n",
    "env.metadata['render_fps'] = 24\n",
    "images = []\n",
    "observation, info = env.reset()\n",
    "max_steps = 1000\n",
    "\n",
    "for step in tqdm(range(max_steps)):\n",
    "    action = env.action_space.sample()\n",
    "    observation, reward, terminated, truncated, info = env.step(action)\n",
    "    images.append(env.render('rgb_array'))\n",
    "\n",
    "    if terminated or truncated:\n",
    "        observation, info = env.reset()\n",
    "\n",
    "env.close()\n",
    "\n",
    "print(\"Saving animation...\")\n",
    "write_apng('images/stack.png', images, delay = 10)"
   ]
  },
  {
   "cell_type": "code",
   "execution_count": null,
   "metadata": {},
   "outputs": [],
   "source": []
  }
 ],
 "metadata": {
  "kernelspec": {
   "display_name": "base",
   "language": "python",
   "name": "python3"
  },
  "language_info": {
   "codemirror_mode": {
    "name": "ipython",
    "version": 3
   },
   "file_extension": ".py",
   "mimetype": "text/x-python",
   "name": "python",
   "nbconvert_exporter": "python",
   "pygments_lexer": "ipython3",
   "version": "3.9.13"
  },
  "orig_nbformat": 4,
  "vscode": {
   "interpreter": {
    "hash": "b0c5f67b466fc5386e183f274ffb84e1509e89581f809d6c238ca5386dca0c23"
   }
  }
 },
 "nbformat": 4,
 "nbformat_minor": 2
}
